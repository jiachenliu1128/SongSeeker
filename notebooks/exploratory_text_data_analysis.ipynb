{
 "cells": [
  {
   "cell_type": "markdown",
   "id": "a8069f1e",
   "metadata": {},
   "source": [
    "# Exploratory Text Data Analysis"
   ]
  },
  {
   "cell_type": "markdown",
   "id": "620bebd2",
   "metadata": {},
   "source": [
    "### Load Data"
   ]
  },
  {
   "cell_type": "code",
   "execution_count": 1,
   "id": "c977e1ec",
   "metadata": {},
   "outputs": [],
   "source": [
    "import pandas as pd\n",
    "from collections import Counter\n",
    "\n",
    "# ==== CONFIG ====\n",
    "CSV_PATH = \"../sample_data/processed/genius-clean-with-title-artist-5000.csv\"\n",
    "\n",
    "# Load the entire CSV\n",
    "df = pd.read_csv(CSV_PATH)"
   ]
  },
  {
   "cell_type": "markdown",
   "id": "907cc27e",
   "metadata": {},
   "source": [
    "### Basic Counts"
   ]
  },
  {
   "cell_type": "code",
   "execution_count": 2,
   "id": "6b3efde2",
   "metadata": {},
   "outputs": [
    {
     "name": "stdout",
     "output_type": "stream",
     "text": [
      "\n",
      "Total lines (songs): 5000\n",
      "Unique artists: 1069\n",
      "Unique tags: 6\n"
     ]
    }
   ],
   "source": [
    "# --- Basic counts ---\n",
    "total_lines = len(df)\n",
    "unique_artists = df[\"artist\"].nunique()\n",
    "unique_tags = df[\"tag\"].nunique()\n",
    "\n",
    "print(f\"\\nTotal lines (songs): {total_lines}\")\n",
    "print(f\"Unique artists: {unique_artists}\")\n",
    "print(f\"Unique tags: {unique_tags}\")"
   ]
  },
  {
   "cell_type": "markdown",
   "id": "e2736514",
   "metadata": {},
   "source": [
    "### Top 10 Artists"
   ]
  },
  {
   "cell_type": "code",
   "execution_count": 3,
   "id": "16207d4c",
   "metadata": {},
   "outputs": [
    {
     "name": "stdout",
     "output_type": "stream",
     "text": [
      "\n",
      "Top 10 artists:\n",
      "     Artist  Count\n",
      "     Eminem    161\n",
      "  Lil Wayne    153\n",
      "      JAY-Z    138\n",
      "        Nas    100\n",
      " Kanye West     99\n",
      "Lupe Fiasco     98\n",
      "      Drake     78\n",
      "       2Pac     63\n",
      "    50 Cent     57\n",
      "    J. Cole     56\n"
     ]
    }
   ],
   "source": [
    "# --- Top 10 artists ---\n",
    "top_artists = df[\"artist\"].value_counts().head(10).reset_index()\n",
    "top_artists.columns = [\"Artist\", \"Count\"]\n",
    "print(\"\\nTop 10 artists:\")\n",
    "print(top_artists.to_string(index=False))"
   ]
  },
  {
   "cell_type": "markdown",
   "id": "733c6956",
   "metadata": {},
   "source": [
    "### Top 10 Tags"
   ]
  },
  {
   "cell_type": "code",
   "execution_count": 4,
   "id": "5681bc9d",
   "metadata": {},
   "outputs": [
    {
     "name": "stdout",
     "output_type": "stream",
     "text": [
      "\n",
      "Top 10 tags:\n",
      "    Tag  Count\n",
      "    rap   4615\n",
      "   rock    125\n",
      "    pop    121\n",
      "     rb     81\n",
      "   misc     50\n",
      "country      8\n"
     ]
    }
   ],
   "source": [
    "# --- Top 10 tags ---\n",
    "top_tags = df[\"tag\"].value_counts().head(10).reset_index()\n",
    "top_tags.columns = [\"Tag\", \"Count\"]\n",
    "print(\"\\nTop 10 tags:\")\n",
    "print(top_tags.to_string(index=False))"
   ]
  },
  {
   "cell_type": "markdown",
   "id": "de00bab9",
   "metadata": {},
   "source": [
    "### Top 10 Words in Lyrics"
   ]
  },
  {
   "cell_type": "code",
   "execution_count": 6,
   "id": "b62f3d48",
   "metadata": {},
   "outputs": [
    {
     "name": "stdout",
     "output_type": "stream",
     "text": [
      "\n",
      "Computing top 10 words...\n",
      "\n",
      "Top 10 words:\n",
      "Word  Count\n",
      " the 110617\n",
      "   I  86580\n",
      "   a  59293\n",
      " you  55575\n",
      "  to  52954\n",
      " and  42026\n",
      "  my  38186\n",
      "  in  34803\n",
      " I'm  30584\n",
      "  it  29746\n"
     ]
    }
   ],
   "source": [
    "# --- Top 10 words ---\n",
    "print(\"\\nComputing top 10 words...\")\n",
    "word_counter = Counter()\n",
    "for lyric in df[\"lyrics\"].fillna(\"\"):\n",
    "    # Since already preprocessed, simple whitespace split is fine\n",
    "    word_counter.update(lyric.split())\n",
    "\n",
    "top_words = pd.DataFrame(word_counter.most_common(10), columns=[\"Word\", \"Count\"])\n",
    "\n",
    "print(\"\\nTop 10 words:\")\n",
    "print(top_words.to_string(index=False))"
   ]
  }
 ],
 "metadata": {
  "kernelspec": {
   "display_name": "SongSeeker",
   "language": "python",
   "name": "python3"
  },
  "language_info": {
   "codemirror_mode": {
    "name": "ipython",
    "version": 3
   },
   "file_extension": ".py",
   "mimetype": "text/x-python",
   "name": "python",
   "nbconvert_exporter": "python",
   "pygments_lexer": "ipython3",
   "version": "3.12.12"
  }
 },
 "nbformat": 4,
 "nbformat_minor": 5
}
